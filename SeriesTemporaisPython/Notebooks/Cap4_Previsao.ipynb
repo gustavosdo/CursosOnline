{
 "cells": [
  {
   "cell_type": "markdown",
   "metadata": {},
   "source": [
    "# Notas do curso Séries Temporais com Python\n",
    "\n",
    "## Capítulo 4: Previsão de Séries Temporais"
   ]
  },
  {
   "cell_type": "markdown",
   "metadata": {},
   "source": [
    "### 1. Considerações gerais\n",
    "\n",
    "#### Erros\n",
    "\n",
    "Mesmo com métodos comprovadamente úteis advindos do aprendizado de máquina e do uso de redes neurais, previsões sempre estão sujeitas a erros pois nem todas as variáveis são conhecidas e aquelas que são, nem sempre são precisas. Por exemplo, em uma previsão de preços de combustível é praticamente impossível predizer o surgimento de futuras crises. E mesmo que seja possível predizer economicamente a próxima crise, nem sempre é matematicamente viável predizer o impacto com precisão.\n",
    "\n",
    "Portanto todas as previsões estão sempre erradas, o problema se torna então diminuir estes erros.\n",
    "\n",
    "#### Métodos de previsão de séries temporais\n",
    "\n",
    "Basicamente temos 3 métodos:\n",
    "\n",
    "- Usar os próprios dados (Séries temporais puras): neste caso tomamos a série histórica e a partir do comportamento dos dados ao longo do tempo pregresso extrapolamos para o tempo futuro.\n",
    "\n",
    "- Usar variáveis externas (Modelo explanatório): aqui lançamos mão de outras variáveis relacionadas ao fenômeno presente na série temporal. Por exemplo, para predizer a temperatura amanhã podemos procurar dados sobre a umidade do ar, pluviosidade e etc.\n",
    "\n",
    "- Usando as duas técnicas anteriores (Modelo misto).\n",
    "\n",
    "A previsão se dá pela busca de um padrão repetido ao longo dos intervalos de tempo. Se a série temporal não apresentar um padrão mas antes for fortemente aleatória dificilmente teremos como extrapolar com precisão tal comportamento e, por isso, será inútil o resultado.\n",
    "\n",
    "Por se tratar de uma extrapolação, quanto mais longe é o tempo para o qual quer se calcular a previsão em relação aos dados armazenados, menor será a previsibilidade. Um dos métodos que estudaremos tenta considerar este efeito ao atribuir pesos sobre a influência que os dados tem em relação a previsão dada a distância temporal entre os dados e a data para o qual se quer calcular a previsão: quanto maior a distância temporal menor é o peso. Por conta da variação desses pesos (entre outros fatores discutidos mais à frente) temos não apenas um **ponto de previsão** mas um intervalo de **previsão**. A este conjunto, ponto e intervalo, chamamos de **distribuição da previsão**.\n",
    "\n",
    "#### Um bom modelo de previsão\n",
    "\n",
    "Para obter bons modelos de previsão é necessário atentar para alguns fatores principais:\n",
    "\n",
    "- Avaliar residuais: qual é a diferença entre o valor previsto pelo modelo e o valor real? Para isso podemos separar um parte da amostra (com resultados conhecidos) para estabelecer essa comparação.\n",
    "\n",
    "- Avaliar performance: MAE, RMSE e outras medidas do erro do modelo em relação à série.\n",
    "\n",
    "- Avaliar métricas: AIC, BIC, etc.\n",
    "\n",
    "#### Dicas gerais\n",
    "- Residuais em conformidade não indicam por si só um bom modelo\n",
    "- Um primeiro modelo bom provavelmente pode ser melhorado\n",
    "- I"
   ]
  }
 ],
 "metadata": {
  "kernelspec": {
   "display_name": "Python 3",
   "language": "python",
   "name": "python3"
  },
  "language_info": {
   "codemirror_mode": {
    "name": "ipython",
    "version": 3
   },
   "file_extension": ".py",
   "mimetype": "text/x-python",
   "name": "python",
   "nbconvert_exporter": "python",
   "pygments_lexer": "ipython3",
   "version": "3.7.6"
  }
 },
 "nbformat": 4,
 "nbformat_minor": 4
}
