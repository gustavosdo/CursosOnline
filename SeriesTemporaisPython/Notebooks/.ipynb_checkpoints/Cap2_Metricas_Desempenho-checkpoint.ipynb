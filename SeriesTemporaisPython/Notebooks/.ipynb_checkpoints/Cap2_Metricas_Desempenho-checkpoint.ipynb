{
 "cells": [
  {
   "cell_type": "markdown",
   "metadata": {},
   "source": [
    "# Notas do curso Séries Temporais com Python\n",
    "\n",
    "## Capítulo 2: Métricas de Desempenho em Séries Temporais"
   ]
  },
  {
   "cell_type": "markdown",
   "metadata": {},
   "source": [
    "### 1. Objetivo da análise de séries temporais"
   ]
  },
  {
   "cell_type": "markdown",
   "metadata": {},
   "source": [
    "O objetivo principal neste curso (e de forma geral) é observar os dados em sequências temporais passadas a fim de, utilizando um algoritmo de regressão, predizer os dados futuros desta sequência.\n",
    "\n",
    "Simplificando bastante, regressão é uma técnica que busca determinar qual é a curva que melhor se ajusta aos dados de uma série temporal. Existem inúmeros métodos para realizar esta determinação, no entanto vamos começar estudando a regressão linear a título de exemplo. Note que este exemplo será realizado apenas para que possamos explorar outros conceitos e métricas tais como resíduos (ou erro) que é definido como a diferença entre a previsão e os dados reais. Para isso, vamos separar a base de dados em duas partes: uma para treinamento e, portanto, ajuste e determinação da curvade regressão, e outra parte para teste onde calcularemos o resíduo a partir da diferença entre a extrapolação da curva e os dados reais. Façamos este procedimento de forma paulatina.\n",
    "\n",
    "Começamos, obviamente, pela tomada dos dados. Neste caso usaremos uma base cuja série temporal tem um característica linear evidente."
   ]
  },
  {
   "cell_type": "code",
   "execution_count": 1,
   "metadata": {},
   "outputs": [],
   "source": [
    "# Importando biblioteca para ler dados\n",
    "import pandas as pd\n",
    "\n",
    "# Importando biblioteca para desenhar gráficos\n",
    "import matplotlib.pyplot as plt"
   ]
  },
  {
   "cell_type": "code",
   "execution_count": 2,
   "metadata": {},
   "outputs": [
    {
     "data": {
      "image/png": "[encoded data removed]",
      "text/plain": [
       "<Figure size 432x288 with 1 Axes>"
      ]
     },
     "metadata": {
      "needs_background": "light"
     },
     "output_type": "display_data"
    }
   ],
   "source": [
    "# Dados trimestrais de residentes australianos (de 1971 a 1994)\n",
    "austres = pd.read_csv(\"../Material/Dados/austres.csv\")\n",
    "\n",
    "# Removendo coluna de ordenamento\n",
    "data = austres.drop(\"Unnamed: 0\", axis=1)\n",
    "\n",
    "# Transformando o dataframe em série temporal\n",
    "ts = data.set_index('time')\n",
    "\n",
    "# Desenhando gráficos a partir dos dados lidos\n",
    "ts.plot(style = 'k.')\n",
    "plt.show()"
   ]
  },
  {
   "cell_type": "code",
   "execution_count": 12,
   "metadata": {},
   "outputs": [],
   "source": [
    "# Importando biblioteca para regressão linear\n",
    "from sklearn import linear_model as lm\n",
    "\n",
    "# Importando biblioteca para separação de amostras em treino e teste\n",
    "from sklearn.model_selection import train_test_split as ttsplit\n",
    "\n",
    "# Separar aleatoriamente treino e teste ou usar últimos 20 pontos da série como teste\n",
    "use_sklearn_split = True\n",
    "\n",
    "# Importando biblioteca para lidar com grandezas numéricas\n",
    "import numpy as np"
   ]
  },
  {
   "cell_type": "code",
   "execution_count": 13,
   "metadata": {},
   "outputs": [],
   "source": [
    "# Carregando dados de variáveis independente e dependente\n",
    "X = data.iloc[:, 0]\n",
    "Y = data.iloc[:, 1]\n",
    "\n",
    "# Separando dados em amostras de treino e de teste\n",
    "if (use_sklearn_split):\n",
    "    X_tr, X_te, Y_tr, Y_te = ttsplit(X, Y, test_size = 0.25, random_state = 0)\n",
    "else:\n",
    "    X_tr = X[:-20]\n",
    "    X_te = X[-20:]\n",
    "\n",
    "    Y_tr = Y[:-20]\n",
    "    Y_te = Y[-20:]"
   ]
  },
  {
   "cell_type": "code",
   "execution_count": 14,
   "metadata": {},
   "outputs": [
    {
     "data": {
      "image/png": "[encoded data removed]",
      "text/plain": [
       "<Figure size 432x288 with 1 Axes>"
      ]
     },
     "metadata": {
      "needs_background": "light"
     },
     "output_type": "display_data"
    }
   ],
   "source": [
    "# Treinando o modelo de regressão linear\n",
    "reg = lm.LinearRegression(); reg.fit(np.reshape(a = np.array(X_tr), newshape = (-1, 1)),\n",
    "                                               np.reshape(a = np.array(Y_tr), newshape = (-1, 1)))\n",
    "\n",
    "# Prevendo os valores a partir dos dados de teste\n",
    "Y_pr = reg.predict(np.reshape(a = np.array(X_te), newshape = (-1, 1)))\n",
    "      \n",
    "# Desenhando o modelo (azul) junto com os dados (preto)\n",
    "plt.scatter(x = X_te, y = Y_te,\n",
    "            color = 'black')\n",
    "plt.plot(X_te, Y_pr,\n",
    "         color = 'blue')\n",
    "plt.show()"
   ]
  },
  {
   "cell_type": "markdown",
   "metadata": {},
   "source": [
    "### 2. Avaliação de desempenho: Hold-out\n",
    "\n",
    "Para avaliar o desempenho do modelo podemos, então, comparar nossas previsões (em azul) com o que de fato ocorreu (em preto). A esta diferença chamamos resíduo ou erro. O erro pode ser medido de diferentes formas, vejamos algumas:\n",
    "\n",
    "#### Dependentes da Escala\n",
    "\n",
    "<a href=\"https://en.wikipedia.org/wiki/Mean_absolute_error\">Erro absoluto médio (MAE)</a>\n",
    "\n",
    "<a href=\"https://en.wikipedia.org/wiki/Root-mean-square_deviation\">Raiz do erro quadrático médio (RMSE)</a>\n",
    "\n",
    "#### Independente da Escala\n",
    "\n",
    "<a href=\"https://en.wikipedia.org/wiki/Mean_absolute_percentage_error\">Erro absoluto percentual médio (MAPE)</a>\n",
    "\n",
    "#### Erros com escalas\n",
    "\n",
    "<a href=\"https://en.wikipedia.org/wiki/Mean_absolute_scaled_error\">Erro absoluto médio escalado(MASE)</a>"
   ]
  },
  {
   "cell_type": "code",
   "execution_count": 48,
   "metadata": {},
   "outputs": [
    {
     "name": "stdout",
     "output_type": "stream",
     "text": [
      "MAE = 96.68376421291063\n",
      "RMSE = 103.4064841826565\n",
      "MAPE = 0.653902311541123\n"
     ]
    }
   ],
   "source": [
    "# Implementação: MAE\n",
    "def MAE(y_real, y_pred):\n",
    "    return(np.mean([abs(y_real[i] - y_pred[i]) for i in range(len(y_real))]))\n",
    "\n",
    "print('MAE =', MAE(np.array(Y_te), Y_pr))\n",
    "\n",
    "# Implementação: RMSE\n",
    "def RMSE(y_real, y_pred):\n",
    "    return(np.sqrt(np.mean([np.square(y_real[i] - y_pred[i]) for i in range(len(y_real))])))\n",
    "           \n",
    "print('RMSE =', RMSE(np.array(Y_te), Y_pr))\n",
    "\n",
    "# Implementação: MAPE\n",
    "def MAPE(y_real, y_pred):\n",
    "    return(np.mean([abs((y_real[i] - y_pred[i])/y_real[i]) for i in range(len(y_real))])*100)\n",
    "print('MAPE =', MAPE(np.array(Y_te), Y_pr))\n",
    "\n",
    "# Implementação: MASE (para séries temporais sem sazonalidade; como definir a sazonalidade será visto no cap.3)\n",
    "def MASE_ns(y_real, y_pred):\n",
    "    mae = MAE(y_real, y_pred)"
   ]
  },
  {
   "cell_type": "markdown",
   "metadata": {},
   "source": [
    "### 3. Avaliação da qualidade do modelo\n",
    "\n",
    "Além da avaliação do desempenho de previsões feitas pelo modelo, podemos também avaliar a qualidade do modelo em si.\n",
    "\n",
    "#### <a href=\"https://en.wikipedia.org/wiki/Cross-validation_(statistics)\">Cross Validation</a>\n",
    "\n",
    "Consiste na repetição do processo de separação de amostras para treino e teste. Para cada vez que este processo é feito, é calculado o erro (a partir de um ou mais métodos de Hold-out acima) e ao final uma combinação estatística é realizada a partir dos resultados.\n",
    "\n",
    "#### <a href=\"https://en.wikipedia.org/wiki/Akaike_information_criterion\">Critério de informação de Akaike</a>\n",
    "\n",
    "É baseado nos critérios de perda de informação e navalha de Occam.\n",
    "\n",
    "#### <a href=\"https://en.wikipedia.org/wiki/Bayesian_information_criterion\">Critério de informação Bayesiano</a>\n",
    "\n",
    "Implementa o uso da maximização da função de verossimilhança como critério.\n",
    "\n",
    "#### <a href=\"https://en.wikipedia.org/wiki/Coefficient_of_determination\">Coeficiente de determinação</a>\n",
    "\n",
    "Também conhecido como $R^2$, este critério baseia-se na proporção da variância da variável dependente que pode ser prevista a partir da(s) variável(is) independente(s)."
   ]
  }
 ],
 "metadata": {
  "kernelspec": {
   "display_name": "Python 3",
   "language": "python",
   "name": "python3"
  },
  "language_info": {
   "codemirror_mode": {
    "name": "ipython",
    "version": 3
   },
   "file_extension": ".py",
   "mimetype": "text/x-python",
   "name": "python",
   "nbconvert_exporter": "python",
   "pygments_lexer": "ipython3",
   "version": "3.7.6"
  }
 },
 "nbformat": 4,
 "nbformat_minor": 4
}
