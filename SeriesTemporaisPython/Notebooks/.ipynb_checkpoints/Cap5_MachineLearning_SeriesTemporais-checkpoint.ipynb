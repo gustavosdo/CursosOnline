{
 "cells": [
  {
   "cell_type": "markdown",
   "metadata": {},
   "source": [
    "# Notas do curso Séries Temporais com Python\n",
    "\n",
    "## Capítulo 5: Machine Learning em Séries Temporais"
   ]
  },
  {
   "cell_type": "markdown",
   "metadata": {},
   "source": [
    "### 1. Seleção de variáveis com random forest\n",
    "\n",
    "Uma parte importante da análise de dados é escolher corretamente o grupo de variáveis e a quantidade de dados a ser utilizada a fim de obter a melhor performance em um modelo de previsão. Nesta seção iremos abordar o uso da técnica de Random Forest com o objetivo de escolher quais são os períodos mais relevantes para melhorar a performance da previsão de períodos futuros."
   ]
  },
  {
   "cell_type": "code",
   "execution_count": null,
   "metadata": {},
   "outputs": [],
   "source": [
    "# Biblioteca de leitura de dados\n",
    "import pandas as pd\n",
    "\n",
    "# Importando dataset (com a correta leitura da data)\n",
    "ts = pd.read_csv( \"../Material/Dados/AirPassengers.csv\", header=0, parse_dates=[0], index_col=0, squeeze=True)"
   ]
  },
  {
   "cell_type": "code",
   "execution_count": null,
   "metadata": {},
   "outputs": [],
   "source": [
    "# Remover o efeito sazonal derivando a série temporal\n",
    "dts = ts.diff(12) # NA´s entre índices 1 e 12\n",
    "\n",
    "# Remover os 12 primeiros meses\n",
    "dts = dts[12:]\n",
    "\n",
    "# Gráfico e head da série derivada\n",
    "print(dts.head(13)); dts.plot()"
   ]
  },
  {
   "cell_type": "code",
   "execution_count": null,
   "metadata": {},
   "outputs": [],
   "source": [
    "# Vamos criar uma série temporal com 12 meses para servir de base para o Random Forest\n",
    "# O objetivo é fazer combinações dos períodos passados e permitir o algoritmo escolher a melhor entre elas\n",
    "base = pd.DataFrame()\n",
    "\n",
    "for i in range(12, 0, -1):\n",
    "    # Algo de errado não está certo!\n",
    "    base['t-'+str(i)] = dts.shift(i)\n",
    "    base['t'] = dts.values\n",
    "\n",
    "print(base.head(13))\n",
    "base = base[13:] # removendo NaN's"
   ]
  },
  {
   "cell_type": "code",
   "execution_count": null,
   "metadata": {},
   "outputs": [],
   "source": [
    "# Algoritmo de regressão usando random forest\n",
    "from sklearn.ensemble import RandomForestRegressor\n",
    "\n",
    "# Formatando dados para usar no regressor\n",
    "array = base.values\n",
    "X = array[:,0:-1]\n",
    "Y = array[:,-1]\n",
    "\n",
    "# Criando modelo\n",
    "mod = RandomForestRegressor(n_estimators = 500, random_state = 1)\n",
    "\n",
    "# Treinando modelo\n",
    "mod.fit(X,Y)\n",
    "\n",
    "# Impressão de resultados\n",
    "print(mod.feature_importances_)\n",
    "\n",
    "# Identificar qual lag apresenta maio importância (maior valor do feature_importances) ----------------------------\n",
    "names  = base.columns.values[0:-1] # obtendo os nomes 't-n' das colunas\n",
    "ticks = [i for i in range(len(names))] # definindo índices para cada nome\n",
    "\n",
    "# Importando biblioteca de gráficos\n",
    "from matplotlib import pyplot as plt\n",
    "from matplotlib.pylab import rcParams\n",
    "rcParams['figure.figsize'] = 15, 6\n",
    "\n",
    "# Criando gráficos de barras a partir do feature_importances_\n",
    "plt.bar(ticks, mod.feature_importances_)\n",
    "plt.xticks(ticks, names)\n",
    "plt.show()"
   ]
  },
  {
   "cell_type": "code",
   "execution_count": null,
   "metadata": {},
   "outputs": [],
   "source": [
    "# Importando biblioteca para seleção de atributos usando RFE\n",
    "from sklearn.feature_selection import RFE\n",
    "\n",
    "# Criando regressor\n",
    "rfe = RFE(RandomForestRegressor(n_estimators = 500, random_state = 1), 4)\n",
    "\n",
    "# Treinando regressor\n",
    "fit = rfe.fit(X,Y)\n",
    "\n",
    "# Laço de impressão para observar resultados\n",
    "for i in range(len(fit.support_)):\n",
    "    if (fit.support_[i]):\n",
    "        print(names[i])"
   ]
  },
  {
   "cell_type": "markdown",
   "metadata": {},
   "source": [
    "A partir desses resultados (gráfico e laço de impressão) é possível observar que os períodos mais importantes para a performance da previsão são os 4 períodos anteriores"
   ]
  },
  {
   "cell_type": "markdown",
   "metadata": {},
   "source": [
    "### 2. Prophet\n",
    "\n",
    "Esse é um algoritmo de previsão de séries temporais criado pelo Facebook"
   ]
  },
  {
   "cell_type": "code",
   "execution_count": 1,
   "metadata": {},
   "outputs": [],
   "source": [
    "# Importando biblioteca para leitura de dados\n",
    "import pandas as pd\n",
    "\n",
    "# Importando bilioteca prophet\n",
    "from fbprophet import Prophet"
   ]
  },
  {
   "cell_type": "code",
   "execution_count": 2,
   "metadata": {},
   "outputs": [],
   "source": [
    "# Importando dados\n",
    "data = pd.read_csv(\"../Material/Dados/train_1.csv\").T \n",
    "\n",
    "# Definindo parâmetros relevantes\n",
    "N = 180 # 60 # Número de dias para teste\n",
    "i = 1800 # Série temporal para treino"
   ]
  },
  {
   "cell_type": "code",
   "execution_count": 3,
   "metadata": {},
   "outputs": [],
   "source": [
    "# Separando dados de treino e teste\n",
    "treino, teste = data.iloc[0:-N,:], data.iloc[-N:,:]\n",
    "\n",
    "# Tratando valores NA\n",
    "teste_noNA = teste.T.fillna(method = 'ffill').T\n",
    "treino_noNA = treino.T.iloc[:,1:].fillna(method = 'ffill').T\n",
    "\n",
    "# Importando biblioteca para cálculos numéricos\n",
    "import numpy as np\n",
    "\n",
    "# Removendo outliers: todos os dados que estão fora de 5 desvios padrão da média móvel de 50 dias\n",
    "base = treino_noNA.iloc[:,i].to_frame()\n",
    "base.columns = ['visits']\n",
    "base['movavg'] = pd.Series(base.visits).rolling(window = 50).mean()\n",
    "std_mult = 1.5 # padrão do desvio-padrão a procurar\n",
    "base.loc[np.abs(base.visits-base.visits.mean())>=(std_mult*base.visits.std()),'visits'] = base.loc[np.abs(base.visits-base.visits.mean())>=(std_mult*base.visits.std()),'movavg']\n",
    "    \n",
    "base.index = pd.to_datetime(base.index)"
   ]
  },
  {
   "cell_type": "code",
   "execution_count": 4,
   "metadata": {},
   "outputs": [
    {
     "name": "stdout",
     "output_type": "stream",
     "text": [
      "          ds     y\n",
      "0 2015-07-01   1.0\n",
      "1 2015-07-02   6.0\n",
      "2 2015-07-03   8.0\n",
      "3 2015-07-04   7.0\n",
      "4 2015-07-05  12.0\n"
     ]
    }
   ],
   "source": [
    "# Mudança nos labels\n",
    "X = pd.DataFrame(index = range(len(base)))\n",
    "X['ds'] = base.index\n",
    "X['y'] = base['visits'].values\n",
    "print(X.head())\n",
    "\n",
    "# Salvando dados\n",
    "import pickle\n",
    "pickle.dump(X, open(\"prophet_train_data\", \"wb\" ))"
   ]
  },
  {
   "cell_type": "code",
   "execution_count": null,
   "metadata": {},
   "outputs": [],
   "source": [
    "# Procurando por NA´s\n",
    "print(np.unique(np.isnan(X.y)))\n",
    "print(np.unique(np.isnan(X.ds)))\n",
    "\n",
    "# Removendo NA´s\n",
    "X.dropna(inplace = True)\n",
    "\n",
    "# Primeiras linhas do dataframe resultante\n",
    "X.head()"
   ]
  },
  {
   "cell_type": "code",
   "execution_count": null,
   "metadata": {},
   "outputs": [],
   "source": [
    "# Criando modelo do Prophet\n",
    "mod = Prophet(yearly_seasonality = True)\n",
    "\n",
    "# Treinando modelo\n",
    "mod.fit(X, algorithm = 'Newton') # mesmo com a mudança de algoritmo, o kernel morre ao tentar executar esta linha\n",
    "# Treinei o modelo no google colab\n",
    "# No google colab também não funcionou\n",
    "\n",
    "# Salvando modelo treinado\n",
    "pickle.dump(mod, open(\"prophet_model\", \"wb\" ))"
   ]
  },
  {
   "cell_type": "code",
   "execution_count": null,
   "metadata": {},
   "outputs": [],
   "source": [
    "# Lendo o modelo\n",
    "mod = pickle.load(open(\"prophet_model\", \"rb\" ) \n",
    "\n",
    "# Prevendo a partir do modelo treinado\n",
    "future = mod.make_future_dataframe(periods = N)\n",
    "\n",
    "# Últimas linhas do dataframe de previsão\n",
    "future.tail()"
   ]
  },
  {
   "cell_type": "code",
   "execution_count": null,
   "metadata": {},
   "outputs": [],
   "source": [
    "# Prevendo as próximas 60 observações\n",
    "fcast = mod.predict(future)\n",
    "fcast[['ds', 'yhat', 'yhat_lower', 'yhat_upper']].tail()\n",
    "\n",
    "# Gráfico da previsão\n",
    "mod.plot(fcast)"
   ]
  }
 ],
 "metadata": {
  "kernelspec": {
   "display_name": "Python 3",
   "language": "python",
   "name": "python3"
  },
  "language_info": {
   "codemirror_mode": {
    "name": "ipython",
    "version": 3
   },
   "file_extension": ".py",
   "mimetype": "text/x-python",
   "name": "python",
   "nbconvert_exporter": "python",
   "pygments_lexer": "ipython3",
   "version": "3.7.6"
  }
 },
 "nbformat": 4,
 "nbformat_minor": 4
}
