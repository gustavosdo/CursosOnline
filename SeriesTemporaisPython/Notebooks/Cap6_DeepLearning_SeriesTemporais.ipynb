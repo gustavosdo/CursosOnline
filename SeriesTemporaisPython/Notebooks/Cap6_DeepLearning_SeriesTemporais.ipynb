{
 "cells": [
  {
   "cell_type": "markdown",
   "metadata": {},
   "source": [
    "# Notas do curso Séries Temporais com Python\n",
    "\n",
    "## Capítulo 6: Deep Learning em Séries Temporais"
   ]
  },
  {
   "cell_type": "markdown",
   "metadata": {},
   "source": [
    "### 1. Introdução ao Keras\n",
    "\n",
    "É uma API escrita sobre algumas bibliotecas de Deep Learning como o Thean, CNTK e Tensorflow.\n",
    "Define-se um modelo no Keras a partir de uma sequência de camadas de redes neurais."
   ]
  },
  {
   "attachments": {},
   "cell_type": "markdown",
   "metadata": {},
   "source": [
    "### 2. Redes neurais artificiais\n",
    "\n",
    "RNA são baseadas na estrutura mais complexa encontrada na natureza: o cérebro humano. A unidade básica do cérebro é conhecida como neurônio e a conexão entre os neurônios é realizada através das sinapses realizadas pelos dendritos. Nessas conexões, impulsos elétricos podem ser enviados de um neuônio a outro criando uma rede de informação.\n",
    "\n",
    "#### Redes neurais de perceptrons\n",
    "\n",
    "Se trata da representação de um único neurônio:\n",
    "\n",
    "https://raw.githubusercontent.com/Claudiooo/DeepLearningLearning/Group2/Images/perceptron_schematic_overview.png\n",
    "\n",
    "Uma rede neural pode então ser construída a partir de várias camadas de perceptrons:\n",
    "\n",
    "https://www.researchgate.net/profile/Mohamed_Zahran6/publication/303875065/figure/fig4/AS:371118507610123@1465492955561/A-hypothetical-example-of-Multilayer-Perceptron-Network.png\n",
    "\n",
    "Nesta última figura, cada círculo representa um perceptron.\n",
    "\n",
    "#### Características:\n",
    "\n",
    "- Topologia: Estrutura de nós e camadas\n",
    "\n",
    "    - Camadas\n",
    "    \n",
    "        Entrada: 1\n",
    "\n",
    "        Saída: 1\n",
    "\n",
    "        Oculta: $n$\n",
    "\n",
    "    - Neurônios por camada\n",
    "        \n",
    "        Entrada: um para cada atributo/variável\n",
    "        \n",
    "        Saída: um para cada valor de classe (quando for um problema de classificação) ou apenas 1 para regressão\n",
    "\n",
    "        Oculta: $\\frac{N_{atributos} + N_{classes}}{2}$\n",
    "\n",
    "\n",
    "- Arquitetura: Feed forward e back propagation\n",
    "\n",
    "    - Feed forward é o processo pelo qual o resultado de uma camada passa para a próxima camada\n",
    "    \n",
    "    - Back propagation é o processo inverso: o resultado final é transmitido para as camadas anteriores a fim de otimizar as distribuições de pesos\n",
    "    \n",
    "\n",
    "- Epoch:\n",
    "\n",
    "    É a quantidade de vezes que os dados de treino serão submetidos à rede neural a fim de permitir a otimização.\n",
    "\n",
    "- Iteration:\n",
    "\n",
    "    É cada passagem dos dados pela rede neural.\n",
    "\n",
    "- Batch size:\n",
    "\n",
    "    É a quantidade de dados que será transmitida à rede por iteração.\n",
    "\n",
    "- Deep Learning:\n",
    "\n",
    "    É um tipo de rede neural artifical onde há múltiplas camadas ocultas."
   ]
  },
  {
   "cell_type": "code",
   "execution_count": null,
   "metadata": {},
   "outputs": [],
   "source": []
  }
 ],
 "metadata": {
  "kernelspec": {
   "display_name": "Python 3",
   "language": "python",
   "name": "python3"
  },
  "language_info": {
   "codemirror_mode": {
    "name": "ipython",
    "version": 3
   },
   "file_extension": ".py",
   "mimetype": "text/x-python",
   "name": "python",
   "nbconvert_exporter": "python",
   "pygments_lexer": "ipython3",
   "version": "3.7.6"
  }
 },
 "nbformat": 4,
 "nbformat_minor": 4
}
